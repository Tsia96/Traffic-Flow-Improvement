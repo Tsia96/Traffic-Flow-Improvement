{
 "cells": [
  {
   "cell_type": "code",
   "execution_count": 1,
   "metadata": {},
   "outputs": [],
   "source": [
    "import pandas as pd\n",
    "import numpy as np\n",
    "import matplotlib.pyplot as plt\n",
    "import seaborn as sns\n",
    "from sklearn.metrics import accuracy_score\n",
    "import xgboost as xgb"
   ]
  },
  {
   "cell_type": "code",
   "execution_count": 2,
   "metadata": {},
   "outputs": [],
   "source": [
    "table1 = pd.read_csv('US_Accidents_June20_CA.csv')"
   ]
  },
  {
   "cell_type": "code",
   "execution_count": 3,
   "metadata": {},
   "outputs": [
    {
     "data": {
      "text/html": [
       "<div>\n",
       "<style scoped>\n",
       "    .dataframe tbody tr th:only-of-type {\n",
       "        vertical-align: middle;\n",
       "    }\n",
       "\n",
       "    .dataframe tbody tr th {\n",
       "        vertical-align: top;\n",
       "    }\n",
       "\n",
       "    .dataframe thead th {\n",
       "        text-align: right;\n",
       "    }\n",
       "</style>\n",
       "<table border=\"1\" class=\"dataframe\">\n",
       "  <thead>\n",
       "    <tr style=\"text-align: right;\">\n",
       "      <th></th>\n",
       "      <th>Airport Code</th>\n",
       "      <th>Amenity</th>\n",
       "      <th>Astronomical Twilight</th>\n",
       "      <th>Bump</th>\n",
       "      <th>City</th>\n",
       "      <th>Civil Twilight</th>\n",
       "      <th>Country</th>\n",
       "      <th>County</th>\n",
       "      <th>Crossing</th>\n",
       "      <th>Description</th>\n",
       "      <th>...</th>\n",
       "      <th>Precipitation(in)</th>\n",
       "      <th>Pressure(in)</th>\n",
       "      <th>Severity</th>\n",
       "      <th>Start Lat</th>\n",
       "      <th>Start Lng</th>\n",
       "      <th>Temperature(F)</th>\n",
       "      <th>TMC</th>\n",
       "      <th>Visibility(mi)</th>\n",
       "      <th>Wind Chill(F)</th>\n",
       "      <th>Wind Speed(mph)</th>\n",
       "    </tr>\n",
       "  </thead>\n",
       "  <tbody>\n",
       "    <tr>\n",
       "      <th>0</th>\n",
       "      <td>KGOO</td>\n",
       "      <td>伪</td>\n",
       "      <td>Day</td>\n",
       "      <td>伪</td>\n",
       "      <td>Grass Valley</td>\n",
       "      <td>Day</td>\n",
       "      <td>US</td>\n",
       "      <td>Nevada</td>\n",
       "      <td>伪</td>\n",
       "      <td>Accident on Airport Ave in Grass Valley.</td>\n",
       "      <td>...</td>\n",
       "      <td>NaN</td>\n",
       "      <td>NaN</td>\n",
       "      <td>1</td>\n",
       "      <td>39.114155</td>\n",
       "      <td>-121.054054</td>\n",
       "      <td>NaN</td>\n",
       "      <td>201.0</td>\n",
       "      <td>NaN</td>\n",
       "      <td>NaN</td>\n",
       "      <td>NaN</td>\n",
       "    </tr>\n",
       "    <tr>\n",
       "      <th>1</th>\n",
       "      <td>KSEE</td>\n",
       "      <td>伪</td>\n",
       "      <td>Day</td>\n",
       "      <td>伪</td>\n",
       "      <td>Spring Valley</td>\n",
       "      <td>Day</td>\n",
       "      <td>US</td>\n",
       "      <td>San Diego</td>\n",
       "      <td>伪</td>\n",
       "      <td>Accident on Date St in San Diego.</td>\n",
       "      <td>...</td>\n",
       "      <td>NaN</td>\n",
       "      <td>30.05</td>\n",
       "      <td>1</td>\n",
       "      <td>32.720226</td>\n",
       "      <td>-116.993698</td>\n",
       "      <td>NaN</td>\n",
       "      <td>201.0</td>\n",
       "      <td>10.0</td>\n",
       "      <td>NaN</td>\n",
       "      <td>NaN</td>\n",
       "    </tr>\n",
       "    <tr>\n",
       "      <th>2</th>\n",
       "      <td>KL35</td>\n",
       "      <td>伪</td>\n",
       "      <td>Day</td>\n",
       "      <td>伪</td>\n",
       "      <td>Lucerne Valley</td>\n",
       "      <td>Day</td>\n",
       "      <td>US</td>\n",
       "      <td>San Bernardino</td>\n",
       "      <td>伪</td>\n",
       "      <td>Accident on Martellen Ln both ways at Christen...</td>\n",
       "      <td>...</td>\n",
       "      <td>NaN</td>\n",
       "      <td>30.31</td>\n",
       "      <td>1</td>\n",
       "      <td>34.457775</td>\n",
       "      <td>-116.976364</td>\n",
       "      <td>59.0</td>\n",
       "      <td>201.0</td>\n",
       "      <td>10.0</td>\n",
       "      <td>NaN</td>\n",
       "      <td>NaN</td>\n",
       "    </tr>\n",
       "    <tr>\n",
       "      <th>3</th>\n",
       "      <td>KVNY</td>\n",
       "      <td>伪</td>\n",
       "      <td>Day</td>\n",
       "      <td>伪</td>\n",
       "      <td>Tarzana</td>\n",
       "      <td>Day</td>\n",
       "      <td>US</td>\n",
       "      <td>Los Angeles</td>\n",
       "      <td>伪</td>\n",
       "      <td>Accident on Hatteras St in Tarzana.</td>\n",
       "      <td>...</td>\n",
       "      <td>0.1</td>\n",
       "      <td>30.00</td>\n",
       "      <td>1</td>\n",
       "      <td>34.177456</td>\n",
       "      <td>-118.533005</td>\n",
       "      <td>55.0</td>\n",
       "      <td>201.0</td>\n",
       "      <td>1.0</td>\n",
       "      <td>NaN</td>\n",
       "      <td>3.5</td>\n",
       "    </tr>\n",
       "    <tr>\n",
       "      <th>4</th>\n",
       "      <td>KMER</td>\n",
       "      <td>伪</td>\n",
       "      <td>Day</td>\n",
       "      <td>伪</td>\n",
       "      <td>Atwater</td>\n",
       "      <td>Day</td>\n",
       "      <td>US</td>\n",
       "      <td>Merced</td>\n",
       "      <td>伪</td>\n",
       "      <td>Accident on De la Vina Ct at Santa Ynez Ct.</td>\n",
       "      <td>...</td>\n",
       "      <td>NaN</td>\n",
       "      <td>29.92</td>\n",
       "      <td>1</td>\n",
       "      <td>37.348450</td>\n",
       "      <td>-120.569313</td>\n",
       "      <td>55.4</td>\n",
       "      <td>201.0</td>\n",
       "      <td>10.0</td>\n",
       "      <td>NaN</td>\n",
       "      <td>17.3</td>\n",
       "    </tr>\n",
       "  </tbody>\n",
       "</table>\n",
       "<p>5 rows × 49 columns</p>\n",
       "</div>"
      ],
      "text/plain": [
       "  Airport Code Amenity Astronomical Twilight Bump            City  \\\n",
       "0         KGOO       伪                   Day    伪    Grass Valley   \n",
       "1         KSEE       伪                   Day    伪   Spring Valley   \n",
       "2         KL35       伪                   Day    伪  Lucerne Valley   \n",
       "3         KVNY       伪                   Day    伪         Tarzana   \n",
       "4         KMER       伪                   Day    伪         Atwater   \n",
       "\n",
       "  Civil Twilight Country          County Crossing  \\\n",
       "0            Day      US          Nevada        伪   \n",
       "1            Day      US       San Diego        伪   \n",
       "2            Day      US  San Bernardino        伪   \n",
       "3            Day      US     Los Angeles        伪   \n",
       "4            Day      US          Merced        伪   \n",
       "\n",
       "                                         Description  ...  Precipitation(in)  \\\n",
       "0           Accident on Airport Ave in Grass Valley.  ...                NaN   \n",
       "1                  Accident on Date St in San Diego.  ...                NaN   \n",
       "2  Accident on Martellen Ln both ways at Christen...  ...                NaN   \n",
       "3                Accident on Hatteras St in Tarzana.  ...                0.1   \n",
       "4        Accident on De la Vina Ct at Santa Ynez Ct.  ...                NaN   \n",
       "\n",
       "   Pressure(in) Severity  Start Lat   Start Lng Temperature(F)    TMC  \\\n",
       "0           NaN        1  39.114155 -121.054054            NaN  201.0   \n",
       "1         30.05        1  32.720226 -116.993698            NaN  201.0   \n",
       "2         30.31        1  34.457775 -116.976364           59.0  201.0   \n",
       "3         30.00        1  34.177456 -118.533005           55.0  201.0   \n",
       "4         29.92        1  37.348450 -120.569313           55.4  201.0   \n",
       "\n",
       "  Visibility(mi)  Wind Chill(F) Wind Speed(mph)  \n",
       "0            NaN            NaN             NaN  \n",
       "1           10.0            NaN             NaN  \n",
       "2           10.0            NaN             NaN  \n",
       "3            1.0            NaN             3.5  \n",
       "4           10.0            NaN            17.3  \n",
       "\n",
       "[5 rows x 49 columns]"
      ]
     },
     "execution_count": 3,
     "metadata": {},
     "output_type": "execute_result"
    }
   ],
   "source": [
    "table1.head()"
   ]
  },
  {
   "cell_type": "code",
   "execution_count": 4,
   "metadata": {},
   "outputs": [
    {
     "name": "stdout",
     "output_type": "stream",
     "text": [
      "<class 'pandas.core.frame.DataFrame'>\n",
      "RangeIndex: 816825 entries, 0 to 816824\n",
      "Data columns (total 49 columns):\n",
      " #   Column                 Non-Null Count   Dtype  \n",
      "---  ------                 --------------   -----  \n",
      " 0   Airport Code           816497 non-null  object \n",
      " 1   Amenity                816825 non-null  object \n",
      " 2   Astronomical Twilight  816817 non-null  object \n",
      " 3   Bump                   816825 non-null  object \n",
      " 4   City                   816817 non-null  object \n",
      " 5   Civil Twilight         816817 non-null  object \n",
      " 6   Country                816825 non-null  object \n",
      " 7   County                 816825 non-null  object \n",
      " 8   Crossing               816825 non-null  object \n",
      " 9   Description            816825 non-null  object \n",
      " 10  End Lat                330882 non-null  float64\n",
      " 11  End Lng                330882 non-null  float64\n",
      " 12  End Time               816825 non-null  object \n",
      " 13  Give Way               816825 non-null  object \n",
      " 14  ID                     816825 non-null  object \n",
      " 15  Junction               816825 non-null  object \n",
      " 16  Nautical Twilight      816817 non-null  object \n",
      " 17  No Exit                816825 non-null  object \n",
      " 18  Number                 175503 non-null  float64\n",
      " 19  Railway                816825 non-null  object \n",
      " 20  Roundabout             816825 non-null  object \n",
      " 21  Side                   816824 non-null  object \n",
      " 22  Source                 816825 non-null  object \n",
      " 23  Start Time             816825 non-null  object \n",
      " 24  State                  816825 non-null  object \n",
      " 25  Station                816825 non-null  object \n",
      " 26  Stop                   816825 non-null  object \n",
      " 27  Street                 816825 non-null  object \n",
      " 28  Sunrise Sunset         816817 non-null  object \n",
      " 29  Timezone               816518 non-null  object \n",
      " 30  Traffic Calming        816825 non-null  object \n",
      " 31  Traffic Signal         816825 non-null  object \n",
      " 32  Turning Loop           816825 non-null  object \n",
      " 33  Weather Condition      800434 non-null  object \n",
      " 34  Weather Timestamp      804290 non-null  object \n",
      " 35  Wind Direction         800096 non-null  object \n",
      " 36  Zipcode                816518 non-null  object \n",
      " 37  Distance(mi)           816825 non-null  float64\n",
      " 38  Humidity(%)            795815 non-null  float64\n",
      " 39  Precipitation(in)      331312 non-null  float64\n",
      " 40  Pressure(in)           802042 non-null  float64\n",
      " 41  Severity               816825 non-null  int64  \n",
      " 42  Start Lat              816825 non-null  float64\n",
      " 43  Start Lng              816825 non-null  float64\n",
      " 44  Temperature(F)         797191 non-null  float64\n",
      " 45  TMC                    485943 non-null  float64\n",
      " 46  Visibility(mi)         800231 non-null  float64\n",
      " 47  Wind Chill(F)          339535 non-null  float64\n",
      " 48  Wind Speed(mph)        683440 non-null  float64\n",
      "dtypes: float64(14), int64(1), object(34)\n",
      "memory usage: 305.4+ MB\n"
     ]
    }
   ],
   "source": [
    "table1.info()"
   ]
  },
  {
   "cell_type": "code",
   "execution_count": 4,
   "metadata": {},
   "outputs": [
    {
     "data": {
      "text/html": [
       "<div>\n",
       "<style scoped>\n",
       "    .dataframe tbody tr th:only-of-type {\n",
       "        vertical-align: middle;\n",
       "    }\n",
       "\n",
       "    .dataframe tbody tr th {\n",
       "        vertical-align: top;\n",
       "    }\n",
       "\n",
       "    .dataframe thead th {\n",
       "        text-align: right;\n",
       "    }\n",
       "</style>\n",
       "<table border=\"1\" class=\"dataframe\">\n",
       "  <thead>\n",
       "    <tr style=\"text-align: right;\">\n",
       "      <th></th>\n",
       "      <th>Airport Code</th>\n",
       "      <th>Amenity</th>\n",
       "      <th>Astronomical Twilight</th>\n",
       "      <th>Bump</th>\n",
       "      <th>City</th>\n",
       "      <th>Civil Twilight</th>\n",
       "      <th>Country</th>\n",
       "      <th>County</th>\n",
       "      <th>Crossing</th>\n",
       "      <th>Description</th>\n",
       "      <th>...</th>\n",
       "      <th>Humidity(%)</th>\n",
       "      <th>Precipitation(in)</th>\n",
       "      <th>Pressure(in)</th>\n",
       "      <th>Start Lat</th>\n",
       "      <th>Start Lng</th>\n",
       "      <th>Temperature(F)</th>\n",
       "      <th>TMC</th>\n",
       "      <th>Visibility(mi)</th>\n",
       "      <th>Wind Chill(F)</th>\n",
       "      <th>Wind Speed(mph)</th>\n",
       "    </tr>\n",
       "    <tr>\n",
       "      <th>Severity</th>\n",
       "      <th></th>\n",
       "      <th></th>\n",
       "      <th></th>\n",
       "      <th></th>\n",
       "      <th></th>\n",
       "      <th></th>\n",
       "      <th></th>\n",
       "      <th></th>\n",
       "      <th></th>\n",
       "      <th></th>\n",
       "      <th></th>\n",
       "      <th></th>\n",
       "      <th></th>\n",
       "      <th></th>\n",
       "      <th></th>\n",
       "      <th></th>\n",
       "      <th></th>\n",
       "      <th></th>\n",
       "      <th></th>\n",
       "      <th></th>\n",
       "      <th></th>\n",
       "    </tr>\n",
       "  </thead>\n",
       "  <tbody>\n",
       "    <tr>\n",
       "      <th>1</th>\n",
       "      <td>5791</td>\n",
       "      <td>5801</td>\n",
       "      <td>5801</td>\n",
       "      <td>5801</td>\n",
       "      <td>5801</td>\n",
       "      <td>5801</td>\n",
       "      <td>5801</td>\n",
       "      <td>5801</td>\n",
       "      <td>5801</td>\n",
       "      <td>5801</td>\n",
       "      <td>...</td>\n",
       "      <td>5676</td>\n",
       "      <td>4694</td>\n",
       "      <td>5690</td>\n",
       "      <td>5801</td>\n",
       "      <td>5801</td>\n",
       "      <td>5685</td>\n",
       "      <td>265</td>\n",
       "      <td>5685</td>\n",
       "      <td>5452</td>\n",
       "      <td>5611</td>\n",
       "    </tr>\n",
       "    <tr>\n",
       "      <th>2</th>\n",
       "      <td>576484</td>\n",
       "      <td>576742</td>\n",
       "      <td>576734</td>\n",
       "      <td>576742</td>\n",
       "      <td>576734</td>\n",
       "      <td>576734</td>\n",
       "      <td>576742</td>\n",
       "      <td>576742</td>\n",
       "      <td>576742</td>\n",
       "      <td>576742</td>\n",
       "      <td>...</td>\n",
       "      <td>561734</td>\n",
       "      <td>269878</td>\n",
       "      <td>566108</td>\n",
       "      <td>576742</td>\n",
       "      <td>576742</td>\n",
       "      <td>562823</td>\n",
       "      <td>280014</td>\n",
       "      <td>564737</td>\n",
       "      <td>281559</td>\n",
       "      <td>494713</td>\n",
       "    </tr>\n",
       "    <tr>\n",
       "      <th>3</th>\n",
       "      <td>225765</td>\n",
       "      <td>225820</td>\n",
       "      <td>225820</td>\n",
       "      <td>225820</td>\n",
       "      <td>225820</td>\n",
       "      <td>225820</td>\n",
       "      <td>225820</td>\n",
       "      <td>225820</td>\n",
       "      <td>225820</td>\n",
       "      <td>225820</td>\n",
       "      <td>...</td>\n",
       "      <td>220206</td>\n",
       "      <td>53191</td>\n",
       "      <td>221963</td>\n",
       "      <td>225820</td>\n",
       "      <td>225820</td>\n",
       "      <td>220466</td>\n",
       "      <td>205225</td>\n",
       "      <td>221561</td>\n",
       "      <td>48836</td>\n",
       "      <td>176390</td>\n",
       "    </tr>\n",
       "    <tr>\n",
       "      <th>4</th>\n",
       "      <td>8457</td>\n",
       "      <td>8462</td>\n",
       "      <td>8462</td>\n",
       "      <td>8462</td>\n",
       "      <td>8462</td>\n",
       "      <td>8462</td>\n",
       "      <td>8462</td>\n",
       "      <td>8462</td>\n",
       "      <td>8462</td>\n",
       "      <td>8462</td>\n",
       "      <td>...</td>\n",
       "      <td>8199</td>\n",
       "      <td>3549</td>\n",
       "      <td>8281</td>\n",
       "      <td>8462</td>\n",
       "      <td>8462</td>\n",
       "      <td>8217</td>\n",
       "      <td>439</td>\n",
       "      <td>8248</td>\n",
       "      <td>3688</td>\n",
       "      <td>6726</td>\n",
       "    </tr>\n",
       "  </tbody>\n",
       "</table>\n",
       "<p>4 rows × 48 columns</p>\n",
       "</div>"
      ],
      "text/plain": [
       "          Airport Code  Amenity  Astronomical Twilight    Bump    City  \\\n",
       "Severity                                                                 \n",
       "1                 5791     5801                   5801    5801    5801   \n",
       "2               576484   576742                 576734  576742  576734   \n",
       "3               225765   225820                 225820  225820  225820   \n",
       "4                 8457     8462                   8462    8462    8462   \n",
       "\n",
       "          Civil Twilight  Country  County  Crossing  Description  ...  \\\n",
       "Severity                                                          ...   \n",
       "1                   5801     5801    5801      5801         5801  ...   \n",
       "2                 576734   576742  576742    576742       576742  ...   \n",
       "3                 225820   225820  225820    225820       225820  ...   \n",
       "4                   8462     8462    8462      8462         8462  ...   \n",
       "\n",
       "          Humidity(%)  Precipitation(in)  Pressure(in)  Start Lat  Start Lng  \\\n",
       "Severity                                                                       \n",
       "1                5676               4694          5690       5801       5801   \n",
       "2              561734             269878        566108     576742     576742   \n",
       "3              220206              53191        221963     225820     225820   \n",
       "4                8199               3549          8281       8462       8462   \n",
       "\n",
       "          Temperature(F)     TMC  Visibility(mi)  Wind Chill(F)  \\\n",
       "Severity                                                          \n",
       "1                   5685     265            5685           5452   \n",
       "2                 562823  280014          564737         281559   \n",
       "3                 220466  205225          221561          48836   \n",
       "4                   8217     439            8248           3688   \n",
       "\n",
       "          Wind Speed(mph)  \n",
       "Severity                   \n",
       "1                    5611  \n",
       "2                  494713  \n",
       "3                  176390  \n",
       "4                    6726  \n",
       "\n",
       "[4 rows x 48 columns]"
      ]
     },
     "execution_count": 4,
     "metadata": {},
     "output_type": "execute_result"
    }
   ],
   "source": [
    "table1.groupby('Severity').count()"
   ]
  },
  {
   "cell_type": "code",
   "execution_count": 5,
   "metadata": {},
   "outputs": [
    {
     "data": {
      "text/plain": [
       "<matplotlib.axes._subplots.AxesSubplot at 0x2578c128160>"
      ]
     },
     "execution_count": 5,
     "metadata": {},
     "output_type": "execute_result"
    },
    {
     "data": {
      "image/png": "[encoded data removed]",
      "text/plain": [
       "<Figure size 432x288 with 1 Axes>"
      ]
     },
     "metadata": {
      "needs_background": "light"
     },
     "output_type": "display_data"
    }
   ],
   "source": [
    "sns.countplot(x='Severity', data=table1, palette=\"Reds_d\")"
   ]
  },
  {
   "cell_type": "code",
   "execution_count": 6,
   "metadata": {},
   "outputs": [],
   "source": [
    "model = table1.drop(['ID','Source','Wind Direction','State','Street','Number','Bump','Roundabout','Station','Stop','Distance(mi)','Railway','Traffic Calming','Traffic Signal','Turning Loop','Civil Twilight','Nautical Twilight','Crossing','Junction','Amenity','Give Way','No Exit','Weather Timestamp','Astronomical Twilight', 'Side','City', 'TMC','Country','County', 'Description','Airport Code','Timezone', 'Sunrise Sunset', 'Start Lat','Start Lng','Zipcode','Start Time','End Lat','End Lng','End Time'], axis=1)"
   ]
  },
  {
   "cell_type": "code",
   "execution_count": 8,
   "metadata": {},
   "outputs": [
    {
     "data": {
      "text/html": [
       "<div>\n",
       "<style scoped>\n",
       "    .dataframe tbody tr th:only-of-type {\n",
       "        vertical-align: middle;\n",
       "    }\n",
       "\n",
       "    .dataframe tbody tr th {\n",
       "        vertical-align: top;\n",
       "    }\n",
       "\n",
       "    .dataframe thead th {\n",
       "        text-align: right;\n",
       "    }\n",
       "</style>\n",
       "<table border=\"1\" class=\"dataframe\">\n",
       "  <thead>\n",
       "    <tr style=\"text-align: right;\">\n",
       "      <th></th>\n",
       "      <th>Weather Condition</th>\n",
       "      <th>Humidity(%)</th>\n",
       "      <th>Precipitation(in)</th>\n",
       "      <th>Pressure(in)</th>\n",
       "      <th>Severity</th>\n",
       "      <th>Temperature(F)</th>\n",
       "      <th>Visibility(mi)</th>\n",
       "      <th>Wind Chill(F)</th>\n",
       "      <th>Wind Speed(mph)</th>\n",
       "    </tr>\n",
       "  </thead>\n",
       "  <tbody>\n",
       "    <tr>\n",
       "      <th>0</th>\n",
       "      <td>NaN</td>\n",
       "      <td>NaN</td>\n",
       "      <td>NaN</td>\n",
       "      <td>NaN</td>\n",
       "      <td>1</td>\n",
       "      <td>NaN</td>\n",
       "      <td>NaN</td>\n",
       "      <td>NaN</td>\n",
       "      <td>NaN</td>\n",
       "    </tr>\n",
       "    <tr>\n",
       "      <th>1</th>\n",
       "      <td>Clear</td>\n",
       "      <td>NaN</td>\n",
       "      <td>NaN</td>\n",
       "      <td>30.05</td>\n",
       "      <td>1</td>\n",
       "      <td>NaN</td>\n",
       "      <td>10.0</td>\n",
       "      <td>NaN</td>\n",
       "      <td>NaN</td>\n",
       "    </tr>\n",
       "    <tr>\n",
       "      <th>2</th>\n",
       "      <td>Clear</td>\n",
       "      <td>59.0</td>\n",
       "      <td>NaN</td>\n",
       "      <td>30.31</td>\n",
       "      <td>1</td>\n",
       "      <td>59.0</td>\n",
       "      <td>10.0</td>\n",
       "      <td>NaN</td>\n",
       "      <td>NaN</td>\n",
       "    </tr>\n",
       "    <tr>\n",
       "      <th>3</th>\n",
       "      <td>Light Rain</td>\n",
       "      <td>100.0</td>\n",
       "      <td>0.1</td>\n",
       "      <td>30.00</td>\n",
       "      <td>1</td>\n",
       "      <td>55.0</td>\n",
       "      <td>1.0</td>\n",
       "      <td>NaN</td>\n",
       "      <td>3.5</td>\n",
       "    </tr>\n",
       "    <tr>\n",
       "      <th>4</th>\n",
       "      <td>Overcast</td>\n",
       "      <td>NaN</td>\n",
       "      <td>NaN</td>\n",
       "      <td>29.92</td>\n",
       "      <td>1</td>\n",
       "      <td>55.4</td>\n",
       "      <td>10.0</td>\n",
       "      <td>NaN</td>\n",
       "      <td>17.3</td>\n",
       "    </tr>\n",
       "  </tbody>\n",
       "</table>\n",
       "</div>"
      ],
      "text/plain": [
       "  Weather Condition  Humidity(%)  Precipitation(in)  Pressure(in)  Severity  \\\n",
       "0               NaN          NaN                NaN           NaN         1   \n",
       "1             Clear          NaN                NaN         30.05         1   \n",
       "2             Clear         59.0                NaN         30.31         1   \n",
       "3        Light Rain        100.0                0.1         30.00         1   \n",
       "4          Overcast          NaN                NaN         29.92         1   \n",
       "\n",
       "   Temperature(F)  Visibility(mi)  Wind Chill(F)  Wind Speed(mph)  \n",
       "0             NaN             NaN            NaN              NaN  \n",
       "1             NaN            10.0            NaN              NaN  \n",
       "2            59.0            10.0            NaN              NaN  \n",
       "3            55.0             1.0            NaN              3.5  \n",
       "4            55.4            10.0            NaN             17.3  "
      ]
     },
     "execution_count": 8,
     "metadata": {},
     "output_type": "execute_result"
    }
   ],
   "source": [
    "model.head()"
   ]
  },
  {
   "cell_type": "code",
   "execution_count": 9,
   "metadata": {},
   "outputs": [
    {
     "name": "stdout",
     "output_type": "stream",
     "text": [
      "<class 'pandas.core.frame.DataFrame'>\n",
      "RangeIndex: 816825 entries, 0 to 816824\n",
      "Data columns (total 9 columns):\n",
      " #   Column             Non-Null Count   Dtype  \n",
      "---  ------             --------------   -----  \n",
      " 0   Weather Condition  800434 non-null  object \n",
      " 1   Humidity(%)        795815 non-null  float64\n",
      " 2   Precipitation(in)  331312 non-null  float64\n",
      " 3   Pressure(in)       802042 non-null  float64\n",
      " 4   Severity           816825 non-null  int64  \n",
      " 5   Temperature(F)     797191 non-null  float64\n",
      " 6   Visibility(mi)     800231 non-null  float64\n",
      " 7   Wind Chill(F)      339535 non-null  float64\n",
      " 8   Wind Speed(mph)    683440 non-null  float64\n",
      "dtypes: float64(7), int64(1), object(1)\n",
      "memory usage: 56.1+ MB\n"
     ]
    }
   ],
   "source": [
    "model.info()"
   ]
  },
  {
   "cell_type": "code",
   "execution_count": 7,
   "metadata": {},
   "outputs": [],
   "source": [
    "from xgboost import XGBClassifier\n",
    "num_round = 20\n",
    "bst1 =XGBClassifier(max_depth=2, learning_rate=1, n_estimators=num_round,\n",
    "                   silent=True, objective='multi:softmax')"
   ]
  },
  {
   "cell_type": "code",
   "execution_count": 8,
   "metadata": {},
   "outputs": [],
   "source": [
    "model1 = pd.get_dummies(model, columns=['Weather Condition'], drop_first=True)"
   ]
  },
  {
   "cell_type": "code",
   "execution_count": 35,
   "metadata": {},
   "outputs": [
    {
     "name": "stdout",
     "output_type": "stream",
     "text": [
      "<class 'pandas.core.frame.DataFrame'>\n",
      "RangeIndex: 816825 entries, 0 to 816824\n",
      "Data columns (total 79 columns):\n",
      " #   Column                                          Non-Null Count   Dtype  \n",
      "---  ------                                          --------------   -----  \n",
      " 0   Humidity(%)                                     795815 non-null  float64\n",
      " 1   Precipitation(in)                               331312 non-null  float64\n",
      " 2   Pressure(in)                                    802042 non-null  float64\n",
      " 3   Severity                                        816825 non-null  int64  \n",
      " 4   Temperature(F)                                  797191 non-null  float64\n",
      " 5   Visibility(mi)                                  800231 non-null  float64\n",
      " 6   Wind Chill(F)                                   339535 non-null  float64\n",
      " 7   Wind Speed(mph)                                 683440 non-null  float64\n",
      " 8   Weather Condition_Blowing Dust / Windy          816825 non-null  uint8  \n",
      " 9   Weather Condition_Blowing Sand                  816825 non-null  uint8  \n",
      " 10  Weather Condition_Clear                         816825 non-null  uint8  \n",
      " 11  Weather Condition_Cloudy                        816825 non-null  uint8  \n",
      " 12  Weather Condition_Cloudy / Windy                816825 non-null  uint8  \n",
      " 13  Weather Condition_Drizzle                       816825 non-null  uint8  \n",
      " 14  Weather Condition_Drizzle / Windy               816825 non-null  uint8  \n",
      " 15  Weather Condition_Dust Whirls                   816825 non-null  uint8  \n",
      " 16  Weather Condition_Fair                          816825 non-null  uint8  \n",
      " 17  Weather Condition_Fair / Windy                  816825 non-null  uint8  \n",
      " 18  Weather Condition_Fog                           816825 non-null  uint8  \n",
      " 19  Weather Condition_Fog / Windy                   816825 non-null  uint8  \n",
      " 20  Weather Condition_Hail                          816825 non-null  uint8  \n",
      " 21  Weather Condition_Haze                          816825 non-null  uint8  \n",
      " 22  Weather Condition_Haze / Windy                  816825 non-null  uint8  \n",
      " 23  Weather Condition_Heavy Drizzle                 816825 non-null  uint8  \n",
      " 24  Weather Condition_Heavy Rain                    816825 non-null  uint8  \n",
      " 25  Weather Condition_Heavy Rain / Windy            816825 non-null  uint8  \n",
      " 26  Weather Condition_Heavy Rain Shower             816825 non-null  uint8  \n",
      " 27  Weather Condition_Heavy Smoke                   816825 non-null  uint8  \n",
      " 28  Weather Condition_Heavy Snow                    816825 non-null  uint8  \n",
      " 29  Weather Condition_Heavy T-Storm                 816825 non-null  uint8  \n",
      " 30  Weather Condition_Heavy Thunderstorms and Rain  816825 non-null  uint8  \n",
      " 31  Weather Condition_Light Drizzle                 816825 non-null  uint8  \n",
      " 32  Weather Condition_Light Drizzle / Windy         816825 non-null  uint8  \n",
      " 33  Weather Condition_Light Freezing Fog            816825 non-null  uint8  \n",
      " 34  Weather Condition_Light Freezing Rain           816825 non-null  uint8  \n",
      " 35  Weather Condition_Light Hail                    816825 non-null  uint8  \n",
      " 36  Weather Condition_Light Haze                    816825 non-null  uint8  \n",
      " 37  Weather Condition_Light Rain                    816825 non-null  uint8  \n",
      " 38  Weather Condition_Light Rain / Windy            816825 non-null  uint8  \n",
      " 39  Weather Condition_Light Rain Shower             816825 non-null  uint8  \n",
      " 40  Weather Condition_Light Rain Shower / Windy     816825 non-null  uint8  \n",
      " 41  Weather Condition_Light Rain Showers            816825 non-null  uint8  \n",
      " 42  Weather Condition_Light Rain with Thunder       816825 non-null  uint8  \n",
      " 43  Weather Condition_Light Snow                    816825 non-null  uint8  \n",
      " 44  Weather Condition_Light Snow / Windy            816825 non-null  uint8  \n",
      " 45  Weather Condition_Light Snow Showers            816825 non-null  uint8  \n",
      " 46  Weather Condition_Light Thunderstorm            816825 non-null  uint8  \n",
      " 47  Weather Condition_Light Thunderstorms and Rain  816825 non-null  uint8  \n",
      " 48  Weather Condition_Mist                          816825 non-null  uint8  \n",
      " 49  Weather Condition_Mostly Cloudy                 816825 non-null  uint8  \n",
      " 50  Weather Condition_Mostly Cloudy / Windy         816825 non-null  uint8  \n",
      " 51  Weather Condition_N/A Precipitation             816825 non-null  uint8  \n",
      " 52  Weather Condition_Overcast                      816825 non-null  uint8  \n",
      " 53  Weather Condition_Partial Fog                   816825 non-null  uint8  \n",
      " 54  Weather Condition_Partly Cloudy                 816825 non-null  uint8  \n",
      " 55  Weather Condition_Partly Cloudy / Windy         816825 non-null  uint8  \n",
      " 56  Weather Condition_Patches of Fog                816825 non-null  uint8  \n",
      " 57  Weather Condition_Rain                          816825 non-null  uint8  \n",
      " 58  Weather Condition_Rain / Windy                  816825 non-null  uint8  \n",
      " 59  Weather Condition_Rain Shower                   816825 non-null  uint8  \n",
      " 60  Weather Condition_Rain Showers                  816825 non-null  uint8  \n",
      " 61  Weather Condition_Scattered Clouds              816825 non-null  uint8  \n",
      " 62  Weather Condition_Shallow Fog                   816825 non-null  uint8  \n",
      " 63  Weather Condition_Showers in the Vicinity       816825 non-null  uint8  \n",
      " 64  Weather Condition_Smoke                         816825 non-null  uint8  \n",
      " 65  Weather Condition_Smoke / Windy                 816825 non-null  uint8  \n",
      " 66  Weather Condition_Snow                          816825 non-null  uint8  \n",
      " 67  Weather Condition_Snow / Windy                  816825 non-null  uint8  \n",
      " 68  Weather Condition_Squalls                       816825 non-null  uint8  \n",
      " 69  Weather Condition_Squalls / Windy               816825 non-null  uint8  \n",
      " 70  Weather Condition_T-Storm                       816825 non-null  uint8  \n",
      " 71  Weather Condition_Thunder                       816825 non-null  uint8  \n",
      " 72  Weather Condition_Thunder in the Vicinity       816825 non-null  uint8  \n",
      " 73  Weather Condition_Thunderstorm                  816825 non-null  uint8  \n",
      " 74  Weather Condition_Thunderstorms and Rain        816825 non-null  uint8  \n",
      " 75  Weather Condition_Volcanic Ash                  816825 non-null  uint8  \n",
      " 76  Weather Condition_Widespread Dust               816825 non-null  uint8  \n",
      " 77  Weather Condition_Widespread Dust / Windy       816825 non-null  uint8  \n",
      " 78  Weather Condition_Wintry Mix                    816825 non-null  uint8  \n",
      "dtypes: float64(7), int64(1), uint8(71)\n",
      "memory usage: 105.2 MB\n"
     ]
    }
   ],
   "source": [
    "model1.info()"
   ]
  },
  {
   "cell_type": "code",
   "execution_count": 10,
   "metadata": {},
   "outputs": [],
   "source": [
    "y_xgtrain = model1['Severity']\n",
    "x_xgtrain=model1.drop(['Severity'],axis=1)"
   ]
  },
  {
   "cell_type": "code",
   "execution_count": 11,
   "metadata": {},
   "outputs": [
    {
     "name": "stdout",
     "output_type": "stream",
     "text": [
      "[10:22:14] WARNING: D:\\Build\\xgboost\\xgboost-1.2.1.git\\src\\learner.cc:516: \n",
      "Parameters: { silent } might not be used.\n",
      "\n",
      "  This may not be accurate due to some parameters are only used in language bindings but\n",
      "  passed down to XGBoost core.  Or some parameters are not used but slip through this\n",
      "  verification. Please open an issue if you find above cases.\n",
      "\n",
      "\n"
     ]
    },
    {
     "data": {
      "text/plain": [
       "XGBClassifier(base_score=0.5, booster='gbtree', colsample_bylevel=1,\n",
       "              colsample_bynode=1, colsample_bytree=1, gamma=0, gpu_id=-1,\n",
       "              importance_type='gain', interaction_constraints='',\n",
       "              learning_rate=1, max_delta_step=0, max_depth=2,\n",
       "              min_child_weight=1, missing=nan, monotone_constraints='()',\n",
       "              n_estimators=20, n_jobs=0, num_parallel_tree=1,\n",
       "              objective='multi:softprob', random_state=0, reg_alpha=0,\n",
       "              reg_lambda=1, scale_pos_weight=None, silent=True, subsample=1,\n",
       "              tree_method='exact', validate_parameters=1, verbosity=None)"
      ]
     },
     "execution_count": 11,
     "metadata": {},
     "output_type": "execute_result"
    }
   ],
   "source": [
    "bst1.fit(x_xgtrain, y_xgtrain)"
   ]
  },
  {
   "cell_type": "code",
   "execution_count": 14,
   "metadata": {},
   "outputs": [
    {
     "data": {
      "image/png": "[encoded data removed]",
      "text/plain": [
       "<Figure size 432x288 with 1 Axes>"
      ]
     },
     "metadata": {
      "needs_background": "light"
     },
     "output_type": "display_data"
    }
   ],
   "source": [
    "from xgboost import plot_importance \n",
    "from matplotlib import pyplot\n",
    "plot_importance(bst1)\n",
    "pyplot.show()"
   ]
  },
  {
   "cell_type": "code",
   "execution_count": 12,
   "metadata": {},
   "outputs": [],
   "source": [
    "model1.loc[(model1['Severity']<=2),'Severity']=0\n",
    "model1.loc[(model1['Severity']>=2),'Severity']=1"
   ]
  },
  {
   "cell_type": "code",
   "execution_count": 13,
   "metadata": {},
   "outputs": [],
   "source": [
    "from sklearn.model_selection import train_test_split"
   ]
  },
  {
   "cell_type": "code",
   "execution_count": 38,
   "metadata": {},
   "outputs": [],
   "source": [
    "y = model1['Severity']\n",
    "x = model1.drop(['Severity'], axis=1)"
   ]
  },
  {
   "cell_type": "code",
   "execution_count": 39,
   "metadata": {},
   "outputs": [],
   "source": [
    "x_train, x_test, y_train, y_test = train_test_split(x, y, test_size=0.2, random_state=42)"
   ]
  },
  {
   "cell_type": "code",
   "execution_count": 40,
   "metadata": {},
   "outputs": [],
   "source": [
    "from sklearn import preprocessing\n",
    "from sklearn.linear_model import LogisticRegression\n",
    "x_train = x_train.fillna(0)\n",
    "x_test = x_test.fillna(0)\n",
    "scaler = preprocessing.StandardScaler().fit(x_train)\n",
    "x_train_s = scaler.transform(x_train)\n",
    "x_test_s = scaler.transform(x_test)"
   ]
  },
  {
   "cell_type": "code",
   "execution_count": 41,
   "metadata": {},
   "outputs": [
    {
     "data": {
      "text/plain": [
       "LogisticRegression(C=100, max_iter=1000)"
      ]
     },
     "execution_count": 41,
     "metadata": {},
     "output_type": "execute_result"
    }
   ],
   "source": [
    "lg = LogisticRegression(C=100, solver = 'lbfgs', max_iter = 1000)\n",
    "lg.fit(x_train_s, y_train)"
   ]
  },
  {
   "cell_type": "code",
   "execution_count": 42,
   "metadata": {},
   "outputs": [],
   "source": [
    "y_predict_test = lg.predict(x_test_s)"
   ]
  },
  {
   "cell_type": "code",
   "execution_count": 29,
   "metadata": {},
   "outputs": [
    {
     "data": {
      "text/plain": [
       "754110    0\n",
       "695004    0\n",
       "528527    0\n",
       "709736    1\n",
       "242908    1\n",
       "         ..\n",
       "570389    0\n",
       "133690    1\n",
       "460825    0\n",
       "445368    0\n",
       "503573    0\n",
       "Name: Severity, Length: 163365, dtype: int64"
      ]
     },
     "execution_count": 29,
     "metadata": {},
     "output_type": "execute_result"
    }
   ],
   "source": [
    "y_test"
   ]
  },
  {
   "cell_type": "code",
   "execution_count": 43,
   "metadata": {},
   "outputs": [
    {
     "data": {
      "text/plain": [
       "array([0.12813241, 0.37151398, 0.40394644, ..., 0.41097255, 0.20070132,\n",
       "       0.17900767])"
      ]
     },
     "execution_count": 43,
     "metadata": {},
     "output_type": "execute_result"
    }
   ],
   "source": [
    "predict_prob = lg.predict_proba(x_test_s)\n",
    "predict_prob[:, 1]"
   ]
  },
  {
   "cell_type": "code",
   "execution_count": 44,
   "metadata": {},
   "outputs": [
    {
     "name": "stdout",
     "output_type": "stream",
     "text": [
      "AUC: 0.65\n"
     ]
    }
   ],
   "source": [
    "from sklearn.metrics import roc_curve, auc, precision_recall_curve\n",
    "\n",
    "fpr, tpr, thresholds = roc_curve(y_test, predict_prob[:, 1])\n",
    "print('AUC: {:.2f}'.format(auc(fpr, tpr)))"
   ]
  },
  {
   "cell_type": "code",
   "execution_count": 45,
   "metadata": {},
   "outputs": [
    {
     "data": {
      "image/png": "[encoded data removed]",
      "text/plain": [
       "<Figure size 504x360 with 1 Axes>"
      ]
     },
     "metadata": {
      "needs_background": "light"
     },
     "output_type": "display_data"
    }
   ],
   "source": [
    "import matplotlib.pyplot as plt\n",
    "plt.figure(figsize = (7, 5))\n",
    "plt.plot(fpr, tpr, color = 'darkorange', lw = 2, label = 'Logistic Reg')\n",
    "plt.plot([0, 1], [0, 1], color = 'navy', lw = 2, linestyle = '--', label = 'Random Guess')\n",
    "plt.title('AUC of Logistic Model')\n",
    "plt.xlabel('False Positive Rate (1-Specificity)')\n",
    "plt.ylabel('True Positive Rate (Recall)' )\n",
    "plt.xlim([0.0, 1.0])\n",
    "plt.ylim([0.0, 1.0])\n",
    "plt.legend()\n",
    "plt.show();"
   ]
  },
  {
   "cell_type": "code",
   "execution_count": 46,
   "metadata": {},
   "outputs": [
    {
     "name": "stdout",
     "output_type": "stream",
     "text": [
      "confusion matrix:\n",
      " [[116572     26]\n",
      " [ 46750     17]]\n"
     ]
    }
   ],
   "source": [
    "from sklearn.metrics import confusion_matrix, classification_report\n",
    "cm = confusion_matrix(y_true=y_test, y_pred=y_predict_test)\n",
    "print('confusion matrix:\\n', cm)"
   ]
  },
  {
   "cell_type": "code",
   "execution_count": 23,
   "metadata": {},
   "outputs": [
    {
     "name": "stdout",
     "output_type": "stream",
     "text": [
      "tn: 116598, fp: 0, fn: 46767, tp: 0\n"
     ]
    }
   ],
   "source": [
    "tn, fp, fn, tp = cm.ravel()\n",
    "print(f'tn: {tn}, fp: {fp}, fn: {fn}, tp: {tp}')"
   ]
  },
  {
   "cell_type": "code",
   "execution_count": 47,
   "metadata": {},
   "outputs": [
    {
     "data": {
      "text/plain": [
       "<matplotlib.axes._subplots.AxesSubplot at 0x2578bb03e50>"
      ]
     },
     "execution_count": 47,
     "metadata": {},
     "output_type": "execute_result"
    },
    {
     "data": {
      "image/png": "[encoded data removed]",
      "text/plain": [
       "<Figure size 432x288 with 2 Axes>"
      ]
     },
     "metadata": {
      "needs_background": "light"
     },
     "output_type": "display_data"
    }
   ],
   "source": [
    "import seaborn as sns\n",
    "sns.heatmap(pd.DataFrame(cm), annot = True, cmap=\"YlGnBu\")"
   ]
  },
  {
   "cell_type": "code",
   "execution_count": 48,
   "metadata": {},
   "outputs": [
    {
     "name": "stdout",
     "output_type": "stream",
     "text": [
      "classification report:\n",
      "               precision    recall  f1-score   support\n",
      "\n",
      "           0       0.71      1.00      0.83    116598\n",
      "           1       0.40      0.00      0.00     46767\n",
      "\n",
      "    accuracy                           0.71    163365\n",
      "   macro avg       0.55      0.50      0.42    163365\n",
      "weighted avg       0.62      0.71      0.59    163365\n",
      "\n"
     ]
    }
   ],
   "source": [
    "print('classification report:\\n', classification_report(y_test, y_predict_test))"
   ]
  },
  {
   "cell_type": "code",
   "execution_count": 25,
   "metadata": {
    "collapsed": true,
    "jupyter": {
     "outputs_hidden": true
    }
   },
   "outputs": [
    {
     "data": {
      "image/png": "[encoded data removed]",
      "text/plain": [
       "<Figure size 504x360 with 1 Axes>"
      ]
     },
     "metadata": {
      "needs_background": "light"
     },
     "output_type": "display_data"
    }
   ],
   "source": [
    "precision, recall, thresholds = precision_recall_curve(y_test, predict_prob[:,1] )\n",
    "\n",
    "plt.figure(figsize = (7, 5))\n",
    "plt.plot(recall, precision, color='darkorange', lw=2)\n",
    "plt.xlim([0.0, 1.0])\n",
    "plt.ylim([0.0, 1.0])\n",
    "plt.xlabel('Recall')\n",
    "plt.ylabel('Precision')\n",
    "plt.title('Precision_Recall_Curve of Logistic Model')\n",
    "plt.show();"
   ]
  },
  {
   "cell_type": "code",
   "execution_count": 26,
   "metadata": {},
   "outputs": [
    {
     "name": "stdout",
     "output_type": "stream",
     "text": [
      "classifier accuracy is 0.71\n"
     ]
    }
   ],
   "source": [
    "print('classifier accuracy is {:.2f}'.format(lg.score(x_test_s, y_test)))"
   ]
  },
  {
   "cell_type": "code",
   "execution_count": 27,
   "metadata": {},
   "outputs": [
    {
     "name": "stdout",
     "output_type": "stream",
     "text": [
      "classifier accuracy is 0.71\n"
     ]
    }
   ],
   "source": [
    "from sklearn.metrics import accuracy_score\n",
    "print('classifier accuracy is {:.2f}'.format(accuracy_score(y_true=y_test, y_pred=y_predict_test)))"
   ]
  },
  {
   "cell_type": "code",
   "execution_count": 28,
   "metadata": {},
   "outputs": [
    {
     "data": {
      "text/plain": [
       "array([[-0.02575601, -0.59501472,  0.08309354,  0.14324511, -0.01897778]])"
      ]
     },
     "execution_count": 28,
     "metadata": {},
     "output_type": "execute_result"
    }
   ],
   "source": [
    "lg.coef_"
   ]
  },
  {
   "cell_type": "code",
   "execution_count": 59,
   "metadata": {},
   "outputs": [
    {
     "data": {
      "text/plain": [
       "<matplotlib.legend.Legend at 0x264af076700>"
      ]
     },
     "execution_count": 59,
     "metadata": {},
     "output_type": "execute_result"
    },
    {
     "data": {
      "image/png": "[encoded data removed]",
      "text/plain": [
       "<Figure size 432x288 with 1 Axes>"
      ]
     },
     "metadata": {
      "needs_background": "light"
     },
     "output_type": "display_data"
    }
   ],
   "source": [
    "plt.plot(x_test_s, lg.coef_ * x_test_s + lg.intercept_, linewidth=4)\n",
    "plt.legend(['Pressure(in)','Wind Chill(F)','Humidity(%)','Temperature(F)','Wind Speed(mph)'])"
   ]
  }
 ],
 "metadata": {
  "kernelspec": {
   "display_name": "Python 3",
   "language": "python",
   "name": "python3"
  },
  "language_info": {
   "codemirror_mode": {
    "name": "ipython",
    "version": 3
   },
   "file_extension": ".py",
   "mimetype": "text/x-python",
   "name": "python",
   "nbconvert_exporter": "python",
   "pygments_lexer": "ipython3",
   "version": "3.8.3"
  }
 },
 "nbformat": 4,
 "nbformat_minor": 4
}
